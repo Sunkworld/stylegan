{
 "cells": [
  {
   "cell_type": "code",
   "execution_count": 1,
   "metadata": {},
   "outputs": [
    {
     "name": "stdout",
     "output_type": "stream",
     "text": [
      "WARNING:tensorflow:From /usr/local/lib/python3.6/dist-packages/tensorflow/python/framework/op_def_library.py:263: colocate_with (from tensorflow.python.framework.ops) is deprecated and will be removed in a future version.\n",
      "Instructions for updating:\n",
      "Colocations handled automatically by placer.\n"
     ]
    }
   ],
   "source": [
    "\n",
    "\n",
    "import os\n",
    "import pickle\n",
    "import numpy as np\n",
    "import PIL.Image\n",
    "import dnnlib\n",
    "import dnnlib.tflib as tflib\n",
    "import config\n",
    "\n",
    "tflib.init_tf()\n",
    "with open('results/00005-sgan-custom-1gpu/network-snapshot-007024.pkl','rb') as f:\n",
    "    _G, _D, Gs = pickle.load(f)"
   ]
  },
  {
   "cell_type": "code",
   "execution_count": 2,
   "metadata": {},
   "outputs": [
    {
     "name": "stdout",
     "output_type": "stream",
     "text": [
      "Imageio: 'ffmpeg-linux64-v3.3.1' was not found on your computer; downloading it now.\n",
      "Try 1. Download from https://github.com/imageio/imageio-binaries/raw/master/ffmpeg/ffmpeg-linux64-v3.3.1 (43.8 MB)\n",
      "Downloading: 8192/45929032 bytes (0.03366912/45929032 bytes (7.3%7135232/45929032 bytes (15.510977280/45929032 bytes (23.9%14524416/45929032 bytes (31.6%18292736/45929032 bytes (39.8%21651456/45929032 bytes (47.1%23707648/45929032 bytes (51.6%25894912/45929032 bytes (56.4%28073984/45929032 bytes (61.1%30547968/45929032 bytes (66.5%33267712/45929032 bytes (72.4%35577856/45929032 bytes (77.5%37806080/45929032 bytes (82.3%39878656/45929032 bytes (86.8%42065920/45929032 bytes (91.6%45178880/45929032 bytes (98.4%45929032/45929032 bytes (100.0%)\n",
      "  Done\n",
      "File saved as /root/.imageio/ffmpeg/ffmpeg-linux64-v3.3.1.\n",
      "[MoviePy] >>>> Building video random_grid_404.mp4\n",
      "[MoviePy] Writing video random_grid_404.mp4\n"
     ]
    },
    {
     "name": "stderr",
     "output_type": "stream",
     "text": [
      "100%|█████████▉| 200/201 [00:50<00:00,  3.95it/s]\n"
     ]
    },
    {
     "name": "stdout",
     "output_type": "stream",
     "text": [
      "[MoviePy] Done.\n",
      "[MoviePy] >>>> Video ready: random_grid_404.mp4 \n",
      "\n"
     ]
    }
   ],
   "source": [
    "import scipy\n",
    "\n",
    "grid_size = [2,2]\n",
    "image_shrink = 1\n",
    "image_zoom = 1\n",
    "duration_sec = 10.0\n",
    "smoothing_sec = 1.0\n",
    "mp4_fps = 20\n",
    "mp4_codec = 'libx264'\n",
    "mp4_bitrate = '16M'\n",
    "random_seed = 404\n",
    "mp4_file = 'random_grid_%s.mp4' % random_seed\n",
    "minibatch_size = 8\n",
    "\n",
    "num_frames = int(np.rint(duration_sec * mp4_fps))\n",
    "random_state = np.random.RandomState(random_seed)\n",
    "\n",
    "# Generate latent vectors\n",
    "shape = [num_frames, np.prod(grid_size)] + Gs.input_shape[1:] # [frame, image, channel, component]\n",
    "all_latents = random_state.randn(*shape).astype(np.float32)\n",
    "all_latents = scipy.ndimage.gaussian_filter(all_latents, [smoothing_sec * mp4_fps] + [0] * len(Gs.input_shape), mode='wrap')\n",
    "all_latents /= np.sqrt(np.mean(np.square(all_latents)))\n",
    "\n",
    "\n",
    "def create_image_grid(images, grid_size=None):\n",
    "    assert images.ndim == 3 or images.ndim == 4\n",
    "    num, img_h, img_w, channels = images.shape\n",
    "\n",
    "    if grid_size is not None:\n",
    "        grid_w, grid_h = tuple(grid_size)\n",
    "    else:\n",
    "        grid_w = max(int(np.ceil(np.sqrt(num))), 1)\n",
    "        grid_h = max((num - 1) // grid_w + 1, 1)\n",
    "\n",
    "    grid = np.zeros([grid_h * img_h, grid_w * img_w, channels], dtype=images.dtype)\n",
    "    for idx in range(num):\n",
    "        x = (idx % grid_w) * img_w\n",
    "        y = (idx // grid_w) * img_h\n",
    "        grid[y : y + img_h, x : x + img_w] = images[idx]\n",
    "    return grid\n",
    "\n",
    "# Frame generation func for moviepy.\n",
    "def make_frame(t):\n",
    "    frame_idx = int(np.clip(np.round(t * mp4_fps), 0, num_frames - 1))\n",
    "    latents = all_latents[frame_idx]\n",
    "    fmt = dict(func=tflib.convert_images_to_uint8, nchw_to_nhwc=True)\n",
    "    images = Gs.run(latents, None, truncation_psi=0.5,\n",
    "                          randomize_noise=False, output_transform=fmt)\n",
    "\n",
    "    grid = create_image_grid(images, grid_size)\n",
    "    if image_zoom > 1:\n",
    "        grid = scipy.ndimage.zoom(grid, [image_zoom, image_zoom, 1], order=0)\n",
    "    if grid.shape[2] == 1:\n",
    "        grid = grid.repeat(3, 2) # grayscale => RGB\n",
    "    return grid\n",
    "\n",
    "# Generate video.\n",
    "import moviepy.editor\n",
    "video_clip = moviepy.editor.VideoClip(make_frame, duration=duration_sec)\n",
    "video_clip.write_videofile(mp4_file, fps=mp4_fps, codec=mp4_codec, bitrate=mp4_bitrate)"
   ]
  },
  {
   "cell_type": "code",
   "execution_count": null,
   "metadata": {},
   "outputs": [],
   "source": []
  }
 ],
 "metadata": {
  "kernelspec": {
   "display_name": "Python 3",
   "language": "python",
   "name": "python3"
  },
  "language_info": {
   "codemirror_mode": {
    "name": "ipython",
    "version": 3
   },
   "file_extension": ".py",
   "mimetype": "text/x-python",
   "name": "python",
   "nbconvert_exporter": "python",
   "pygments_lexer": "ipython3",
   "version": "3.6.7"
  }
 },
 "nbformat": 4,
 "nbformat_minor": 2
}
